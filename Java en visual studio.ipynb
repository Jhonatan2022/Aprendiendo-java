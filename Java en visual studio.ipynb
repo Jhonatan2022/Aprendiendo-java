{
 "cells": [
  {
   "attachments": {},
   "cell_type": "markdown",
   "metadata": {},
   "source": [
    "# Informe para ejecutar Java en Visual Studio Code\n",
    "\n",
    "1. Primero instalamos todas las extenciones de java en VS Code\n",
    "\n",
    "![imagenes\\java.png](imagenes/java.png)\n",
    "\n",
    "2. Intalamos el jdk de Oracle https://www.oracle.com/co/java/technologies/downloads/\n",
    "\n",
    "3. Por ultimo ya podemos ejecutar nuestros documentos .java\n",
    "\n",
    "![imagenes\\ejecuto.png](imagenes/ejecuto.png)"
   ]
  }
 ],
 "metadata": {
  "language_info": {
   "name": "python"
  },
  "orig_nbformat": 4
 },
 "nbformat": 4,
 "nbformat_minor": 2
}
